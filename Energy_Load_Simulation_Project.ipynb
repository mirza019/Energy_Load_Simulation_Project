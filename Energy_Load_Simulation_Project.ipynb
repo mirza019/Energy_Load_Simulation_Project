{
 "cells": [
  {
   "cell_type": "markdown",
   "id": "0e7b4492",
   "metadata": {},
   "source": [
    "# Energy Load Forecasting and Critical Scenario Simulation\n",
    "**Author**: Mirza Shaheen Iqubal\n",
    "\n",
    "This notebook combines:\n",
    "- A time-series load forecasting model using LSTM\n",
    "- A climate-energy scenario simulation\n",
    "\n",
    "Both components directly support the goals of the *Siemens Energy Working Student (Data Analysis & Simulation)* role by evaluating historical and future grid load patterns influenced by climate data."
   ]
  },
  {
   "cell_type": "markdown",
   "id": "0446e567",
   "metadata": {},
   "source": [
    "## 📥 Load and Weather Data Loading"
   ]
  },
  {
   "cell_type": "code",
   "execution_count": null,
   "id": "f89d72bb",
   "metadata": {},
   "outputs": [],
   "source": [
    "import pandas as pd\n",
    "import numpy as np\n",
    "import matplotlib.pyplot as plt\n",
    "import seaborn as sns\n",
    "from sklearn.preprocessing import MinMaxScaler\n",
    "from keras.models import Sequential\n",
    "from keras.layers import LSTM, Dense\n",
    "from sklearn.metrics import mean_squared_error\n",
    "\n",
    "# Load datasets\n",
    "energy = pd.read_csv('/mnt/data/energy_dataset.csv')\n",
    "weather = pd.read_csv('/mnt/data/weather_features.csv')\n",
    "\n",
    "# Parse datetime\n",
    "energy['time'] = pd.to_datetime(energy['time'], utc=True)\n",
    "weather['dt_iso'] = pd.to_datetime(weather['dt_iso'], utc=True)\n",
    "\n",
    "# Merge datasets on datetime\n",
    "df = pd.merge(energy, weather, left_on='time', right_on='dt_iso')\n",
    "df = df[['time', 'total load actual', 'temp', 'humidity']].dropna()\n"
   ]
  },
  {
   "cell_type": "markdown",
   "id": "661ad80e",
   "metadata": {},
   "source": [
    "## 🔍 Climate-Load Correlation Analysis"
   ]
  },
  {
   "cell_type": "code",
   "execution_count": null,
   "id": "9e03c0cb",
   "metadata": {},
   "outputs": [],
   "source": [
    "sns.heatmap(df[['total load actual', 'temp', 'humidity']].corr(), annot=True)\n",
    "plt.title('Correlation Matrix')\n",
    "plt.show()"
   ]
  },
  {
   "cell_type": "markdown",
   "id": "4a59f866",
   "metadata": {},
   "source": [
    "## ⚠️ Scenario Simulation: Coincidence of Peak Load and Extreme Temperature"
   ]
  },
  {
   "cell_type": "code",
   "execution_count": null,
   "id": "e350adef",
   "metadata": {},
   "outputs": [],
   "source": [
    "# Define thresholds\n",
    "temp_thresh = df['temp'].quantile(0.90)\n",
    "load_thresh = df['total load actual'].quantile(0.90)\n",
    "\n",
    "df['high_temp'] = df['temp'] >= temp_thresh\n",
    "df['high_load'] = df['total load actual'] >= load_thresh\n",
    "df['critical_condition'] = df['high_temp'] & df['high_load']\n",
    "\n",
    "df['month'] = df['time'].dt.month\n",
    "monthly_counts = df.groupby('month')['critical_condition'].sum()\n",
    "monthly_counts.plot(kind='bar', title='Monthly Frequency of Critical Conditions')\n",
    "plt.ylabel('Count')\n",
    "plt.xlabel('Month')\n",
    "plt.tight_layout()\n",
    "plt.show()"
   ]
  },
  {
   "cell_type": "markdown",
   "id": "ed42e5a5",
   "metadata": {},
   "source": [
    "## 🤖 LSTM Model: Forecasting Energy Load"
   ]
  },
  {
   "cell_type": "code",
   "execution_count": null,
   "id": "885fe2ce",
   "metadata": {},
   "outputs": [],
   "source": [
    "# Use only one column for load\n",
    "load_series = df.set_index('time')['total load actual'].resample('H').mean().fillna(method='ffill')\n",
    "\n",
    "# Normalize data\n",
    "scaler = MinMaxScaler()\n",
    "scaled_load = scaler.fit_transform(load_series.values.reshape(-1, 1))\n",
    "\n",
    "# Create sequences\n",
    "seq_len = 24\n",
    "X, y = [], []\n",
    "for i in range(len(scaled_load) - seq_len):\n",
    "    X.append(scaled_load[i:i+seq_len])\n",
    "    y.append(scaled_load[i+seq_len])\n",
    "\n",
    "X, y = np.array(X), np.array(y)\n",
    "X = np.reshape(X, (X.shape[0], X.shape[1], 1))\n",
    "\n",
    "# LSTM model\n",
    "model = Sequential()\n",
    "model.add(LSTM(50, return_sequences=False, input_shape=(seq_len, 1)))\n",
    "model.add(Dense(1))\n",
    "model.compile(optimizer='adam', loss='mse')\n",
    "\n",
    "# Train\n",
    "model.fit(X, y, epochs=3, batch_size=64, verbose=1)"
   ]
  },
  {
   "cell_type": "markdown",
   "id": "e2a93ea4",
   "metadata": {},
   "source": [
    "## ✅ Job Description Alignment Summary\n",
    "- Analyzed weather & load data over time ✔️\n",
    "- Modeled critical grid stress conditions ✔️\n",
    "- Built LSTM model for forecasting future load ✔️\n",
    "- All tasks align with Siemens Energy’s simulation and data analysis objectives for grid design and efficiency ✔️"
   ]
  }
 ],
 "metadata": {},
 "nbformat": 4,
 "nbformat_minor": 5
}
